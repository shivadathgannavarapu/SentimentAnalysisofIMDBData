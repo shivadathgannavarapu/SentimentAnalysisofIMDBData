{
  "cells": [
    {
      "cell_type": "markdown",
      "metadata": {
        "id": "i3LtOCqJEqy-"
      },
      "source": [
        "**Problem Statement**:\n",
        "\n",
        "The objective of this project is to develop a sentiment analysis model using Recurrent Neural Networks (RNNs) to predict the sentiment (positive or negative) of IMDB movie reviews. We will compare the performance of three types of RNNs: \"vanilla\" RNN, Long Short-Term Memory (LSTM), and Gated Recurrent Unit (GRU).\n",
        "\n",
        "Keras, a high-level deep learning library, provides a convenient interface for loading the IMDB data and encoding the words into integers based on their frequency. This preprocessing step eliminates the need for manual data preparation, saving time and effort.\n",
        "\n",
        "The IMDB dataset consists of 25,000 training sequences and 25,000 test sequences. The sentiment labels are binary, with an equal representation of positive and negative outcomes in both the training and test sets."
      ]
    },
    {
      "cell_type": "code",
      "execution_count": null,
      "metadata": {
        "id": "hZP3VMR5EqzH"
      },
      "outputs": [],
      "source": [
        "import tensorflow as tf\n",
        "from tensorflow import keras\n",
        "from keras.datasets import imdb\n",
        "\n",
        "# Load the IMDB data\n",
        "max_features = 2000\n",
        "(x_train, y_train), (x_test, y_test) = imdb.load_data(num_words=max_features)"
      ]
    },
    {
      "cell_type": "code",
      "execution_count": null,
      "metadata": {
        "id": "1MXlCIc4EqzO",
        "outputId": "074f34d0-026c-46ca-c78a-3fe91a858111"
      },
      "outputs": [
        {
          "name": "stdout",
          "output_type": "stream",
          "text": [
            "Requirement already satisfied: keras in c:\\users\\shiva\\anaconda3\\lib\\site-packages (2.11.0)Note: you may need to restart the kernel to use updated packages.\n",
            "\n"
          ]
        }
      ],
      "source": [
        "pip install keras"
      ]
    },
    {
      "cell_type": "markdown",
      "metadata": {
        "id": "rPblfwrPEqzP"
      },
      "source": [
        "1- Use the `imdb.load_data()` to load in the data \n",
        "\n",
        "2- Specify the maximum length of a sequence to 30 words and the pick the 2000 most common words. "
      ]
    },
    {
      "cell_type": "code",
      "execution_count": null,
      "metadata": {
        "id": "Ev-gelx1EqzQ",
        "outputId": "d0d30c04-770f-493e-d424-c0e25b06ff5c"
      },
      "outputs": [
        {
          "name": "stdout",
          "output_type": "stream",
          "text": [
            "x_train = 25000 train sequences\n",
            "x_test = 25000 train sequences\n"
          ]
        }
      ],
      "source": [
        "# Check the number of sequences in the train and test sets\n",
        "print(\"x_train = %d train sequences\" % x_train.shape[0])\n",
        "print(\"x_test = %d train sequences\" % x_test.shape[0])"
      ]
    },
    {
      "cell_type": "markdown",
      "metadata": {
        "id": "ZuOYXNNiEqzR"
      },
      "source": [
        "3- Check that the number of sequences in train and test datasets are equal (default split):\n",
        "    \n",
        "Expected output:\n",
        "- `x_train = 25000 train sequences`\n",
        "\n",
        "- `x_test = 25000 test sequences`"
      ]
    },
    {
      "cell_type": "code",
      "execution_count": null,
      "metadata": {
        "id": "ixrzZzbVEqzS"
      },
      "outputs": [],
      "source": [
        "# Set the maximum sequence length to 30\n",
        "max_words = 30\n",
        "x_train = tf.keras.utils.pad_sequences(x_train, maxlen=max_words)\n",
        "x_test = tf.keras.utils.pad_sequences(x_test, maxlen=max_words)"
      ]
    },
    {
      "cell_type": "markdown",
      "metadata": {
        "id": "2vJJkxTNEqzT"
      },
      "source": [
        "4- Pad (or truncate) the sequences so that they are of the maximum length"
      ]
    },
    {
      "cell_type": "code",
      "execution_count": null,
      "metadata": {
        "id": "n2JqqezUEqzU",
        "outputId": "83850132-fe82-4d13-b109-b164cc2fee51"
      },
      "outputs": [
        {
          "name": "stdout",
          "output_type": "stream",
          "text": [
            "x_train shape: (25000, 30)\n",
            "x_test shape: (25000, 30)\n"
          ]
        }
      ],
      "source": [
        "print(\"x_train shape:\", x_train.shape)\n",
        "print(\"x_test shape:\", x_test.shape)"
      ]
    },
    {
      "cell_type": "markdown",
      "metadata": {
        "id": "ltKno5qyEqzV"
      },
      "source": [
        "5- After padding or truncating, check the dimensionality of x_train and x_test.\n",
        "\n",
        "Expected output:\n",
        "- `x_train shape: (25000, 30)`\n",
        "- `x_test shape: (25000, 30)`"
      ]
    },
    {
      "cell_type": "code",
      "execution_count": null,
      "metadata": {
        "id": "mLzpkU_ZEqzV"
      },
      "outputs": [],
      "source": [
        "from keras.callbacks import TensorBoard\n",
        "from sklearn.model_selection import StratifiedKFold\n",
        "%load_ext tensorboard\n",
        "\n",
        "# Define the callback and specify the log directory\n",
        "tensorboard = TensorBoard(log_dir='logs_assignment3/', histogram_freq=0, write_graph=True, write_images=False)\n",
        "\n",
        "# Split the data into 10 folds\n",
        "kfold = StratifiedKFold(n_splits=10, shuffle=True)"
      ]
    },
    {
      "cell_type": "code",
      "execution_count": null,
      "metadata": {
        "id": "owwHIkirEqzW",
        "outputId": "ab11e405-d41f-4a54-8a4a-a5c615429d79"
      },
      "outputs": [
        {
          "data": {
            "text/plain": [
              "Reusing TensorBoard on port 6006 (pid 32288), started 1:14:04 ago. (Use '!kill 32288' to kill it.)"
            ]
          },
          "metadata": {},
          "output_type": "display_data"
        },
        {
          "data": {
            "text/html": [
              "\n",
              "      <iframe id=\"tensorboard-frame-3d534584304eeff5\" width=\"100%\" height=\"800\" frameborder=\"0\">\n",
              "      </iframe>\n",
              "      <script>\n",
              "        (function() {\n",
              "          const frame = document.getElementById(\"tensorboard-frame-3d534584304eeff5\");\n",
              "          const url = new URL(\"/\", window.location);\n",
              "          const port = 6006;\n",
              "          if (port) {\n",
              "            url.port = port;\n",
              "          }\n",
              "          frame.src = url;\n",
              "        })();\n",
              "      </script>\n",
              "    "
            ],
            "text/plain": [
              "<IPython.core.display.HTML object>"
            ]
          },
          "metadata": {},
          "output_type": "display_data"
        }
      ],
      "source": [
        "%tensorboard --logdir logs_assigmente3/"
      ]
    },
    {
      "cell_type": "markdown",
      "metadata": {
        "id": "JoTGNUg6EqzW"
      },
      "source": [
        "<p>6- For all your models:</p>\n",
        "<p>- Use tensorboard to run your experiments</p>\n",
        "<p>- Use cross valdiation with 10 folds</p>"
      ]
    },
    {
      "cell_type": "markdown",
      "metadata": {
        "id": "HWN_6dL8EqzX"
      },
      "source": [
        "<p>7- Build the RNN with three layers:</p>\n",
        "<ul>\n",
        "<li>\n",
        "<p>The SimpleRNN layer with 5 neurons and initialize its kernel with stddev=0.001</p>\n",
        "</li>\n",
        "<li>\n",
        "<p>The Embedding layer and initialize it by setting the word embedding dimension to 50. This means that this layer takes each integer in the sequence and embeds it in a 50-dimensional vector.</p>\n",
        "</li>\n",
        "<li>\n",
        "<p>The output layer has the sigmoid activation function.</p>\n",
        "</li>\n",
        "</ul>"
      ]
    },
    {
      "cell_type": "code",
      "execution_count": null,
      "metadata": {
        "scrolled": false,
        "id": "HnM2IVX3EqzX"
      },
      "outputs": [],
      "source": [
        "from keras.models import Sequential\n",
        "from keras.layers import Embedding, SimpleRNN, Dense\n",
        "from keras.preprocessing import sequence\n",
        "import time\n",
        "\n",
        "# Define the model\n",
        "keras.backend.clear_session()\n",
        "model = Sequential()\n",
        "model.add(Embedding(input_dim=max_features, output_dim=50, input_length=max_words))\n",
        "model.add(SimpleRNN(units=5, kernel_initializer=keras.initializers.RandomNormal(stddev=0.001),\n",
        "                    activation='tanh'))\n",
        "model.add(Dense(1, activation='sigmoid'))"
      ]
    },
    {
      "cell_type": "markdown",
      "metadata": {
        "id": "iJAA7U5VEqzY"
      },
      "source": [
        "<p>8- How many parameters have the embedding layer?</p>"
      ]
    },
    {
      "cell_type": "code",
      "execution_count": null,
      "metadata": {
        "scrolled": true,
        "id": "u7FzH8MXEqzZ",
        "outputId": "51add78c-ca2a-4f1d-d7f1-d7f5e6d0224a"
      },
      "outputs": [
        {
          "name": "stdout",
          "output_type": "stream",
          "text": [
            "Model: \"sequential\"\n",
            "_________________________________________________________________\n",
            " Layer (type)                Output Shape              Param #   \n",
            "=================================================================\n",
            " embedding (Embedding)       (None, 30, 50)            100000    \n",
            "                                                                 \n",
            " simple_rnn (SimpleRNN)      (None, 5)                 280       \n",
            "                                                                 \n",
            " dense (Dense)               (None, 1)                 6         \n",
            "                                                                 \n",
            "=================================================================\n",
            "Total params: 100,286\n",
            "Trainable params: 100,286\n",
            "Non-trainable params: 0\n",
            "_________________________________________________________________\n"
          ]
        }
      ],
      "source": [
        "model.summary()"
      ]
    },
    {
      "cell_type": "markdown",
      "metadata": {
        "id": "80oF5fAKEqzZ"
      },
      "source": [
        "<p>9- Train the network with the RMSprop with learning rate of .0001 and epochs=10.</p>"
      ]
    },
    {
      "cell_type": "code",
      "execution_count": null,
      "metadata": {
        "id": "voxDgzpWEqzZ"
      },
      "outputs": [],
      "source": [
        "from keras.optimizers import RMSprop\n",
        "rmsprop = RMSprop(learning_rate=0.0001)"
      ]
    },
    {
      "cell_type": "code",
      "execution_count": null,
      "metadata": {
        "id": "-VMRdYuJEqza",
        "outputId": "516130b3-3396-468e-8091-2ef06a54d2af"
      },
      "outputs": [
        {
          "name": "stdout",
          "output_type": "stream",
          "text": [
            "Test Accuracy: 53.92%\n",
            "Test Accuracy: 54.53%\n",
            "Test Accuracy: 55.26%\n",
            "Test Accuracy: 55.84%\n",
            "Test Accuracy: 56.43%\n",
            "Test Accuracy: 56.93%\n",
            "Test Accuracy: 57.22%\n",
            "Test Accuracy: 57.28%\n",
            "Test Accuracy: 57.49%\n",
            "Test Accuracy: 57.70%\n"
          ]
        }
      ],
      "source": [
        "# Compile the model\n",
        "model.compile(loss='binary_crossentropy', optimizer=rmsprop, metrics=['accuracy'])\n",
        "\n",
        "loss = []\n",
        "accuracy = []\n",
        "val_loss = []\n",
        "val_accuracy = []\n",
        "test_accuracy = []\n",
        "\n",
        "for train, test in kfold.split(x_train, y_train):  \n",
        "    # Train the model\n",
        "    history = model.fit(x_train[train], y_train[train], epochs=10, batch_size=64, callbacks=[tensorboard], \n",
        "              validation_data=(x_train[test], y_train[test]), verbose = 0)\n",
        "    loss.append(history.history['loss'])\n",
        "    accuracy.append(history.history['accuracy'])\n",
        "    val_loss.append(history.history['val_loss'])\n",
        "    val_accuracy.append(history.history['val_accuracy'])\n",
        "    \n",
        "    # Evaluate the model\n",
        "    scores = model.evaluate(x_test, y_test, verbose=0)\n",
        "    test_accuracy.append(scores)\n",
        "    print(\"Test Accuracy: %.2f%%\" % (scores[1]*100))"
      ]
    },
    {
      "cell_type": "markdown",
      "metadata": {
        "id": "SNCgnKUcEqzg"
      },
      "source": [
        "<p>10- PLot the loss and accuracy metrics during the training and interpret the result.</p>"
      ]
    },
    {
      "cell_type": "code",
      "execution_count": null,
      "metadata": {
        "id": "M2OfTxe8Eqzh",
        "outputId": "294aa75b-cf54-47f6-880c-fc73d1cded85"
      },
      "outputs": [
        {
          "data": {
            "image/png": "[encoded data removed]",
            "text/plain": [
              "<Figure size 432x288 with 1 Axes>"
            ]
          },
          "metadata": {
            "needs_background": "light"
          },
          "output_type": "display_data"
        },
        {
          "data": {
            "image/png": "[encoded data removed]",
            "text/plain": [
              "<Figure size 432x288 with 1 Axes>"
            ]
          },
          "metadata": {
            "needs_background": "light"
          },
          "output_type": "display_data"
        }
      ],
      "source": [
        "import numpy as np\n",
        "import matplotlib.pyplot as plt\n",
        "\n",
        "# plot the average loss and accuracy across all folds over the training epochs\n",
        "loss = np.mean(loss, axis=0)\n",
        "accuracy = np.mean(accuracy, axis=0)\n",
        "val_loss = np.mean(val_loss, axis=0)\n",
        "val_accuracy = np.mean(val_accuracy, axis=0)\n",
        "\n",
        "epochs = range(1, len(loss) + 1)\n",
        "\n",
        "plt.figure()\n",
        "plt.plot(epochs, loss, 'r', label='Training loss')\n",
        "plt.plot(epochs, val_loss, 'b', label='Validation loss')\n",
        "plt.title('Training and validation loss for K-fold cross-validation performance')\n",
        "plt.xlabel('Epochs')\n",
        "plt.ylabel('Loss')\n",
        "plt.legend()\n",
        "plt.show()\n",
        "\n",
        "plt.figure()\n",
        "plt.plot(epochs, accuracy, 'r', label='Training acc')\n",
        "plt.plot(epochs, val_accuracy, 'b', label='Validation acc')\n",
        "plt.title('Training and validation accuracy for K-fold cross-validation performance')\n",
        "plt.xlabel('Epochs')\n",
        "plt.ylabel('Accuracy')\n",
        "plt.legend()\n",
        "plt.show()\n"
      ]
    },
    {
      "cell_type": "code",
      "execution_count": null,
      "metadata": {
        "id": "KepWa8LxEqzi",
        "outputId": "2f98c99b-9601-4344-fb98-4c9c1efd8ccd"
      },
      "outputs": [
        {
          "data": {
            "text/plain": [
              "[[0.7131129503250122, 0.5391600131988525],\n",
              " [0.7252579927444458, 0.5453199744224548],\n",
              " [0.7313358783721924, 0.5526400208473206],\n",
              " [0.7355021834373474, 0.5583599805831909],\n",
              " [0.737510621547699, 0.5642799735069275],\n",
              " [0.737923800945282, 0.5692800283432007],\n",
              " [0.7441205978393555, 0.5722000002861023],\n",
              " [0.7573359608650208, 0.5728399753570557],\n",
              " [0.7674537301063538, 0.5749199986457825],\n",
              " [0.7734335660934448, 0.5770000219345093]]"
            ]
          },
          "execution_count": 14,
          "metadata": {},
          "output_type": "execute_result"
        }
      ],
      "source": [
        "test_accuracy"
      ]
    },
    {
      "cell_type": "markdown",
      "metadata": {
        "id": "MeWsG62uEqzi"
      },
      "source": [
        "<p>11- Check the accuracy and the loss of your models on the test dataset.</p>"
      ]
    },
    {
      "cell_type": "code",
      "execution_count": null,
      "metadata": {
        "id": "PkQDeF03Eqzj",
        "outputId": "db3911db-70fe-485e-ea30-341329c68244"
      },
      "outputs": [
        {
          "name": "stdout",
          "output_type": "stream",
          "text": [
            "782/782 [==============================] - 2s 2ms/step - loss: 0.7734 - accuracy: 0.5770\n",
            "Test loss for baseline model:  0.7734335660934448\n",
            "Test accuracy for baseline model:  0.5770000219345093\n"
          ]
        }
      ],
      "source": [
        "test_loss, test_acc = model.evaluate(x_test, y_test)\n",
        "print(\"Test loss for baseline model: \", test_loss)\n",
        "print(\"Test accuracy for baseline model: \", test_acc)"
      ]
    },
    {
      "cell_type": "markdown",
      "metadata": {
        "id": "ZxXZEqt8Eqzj"
      },
      "source": [
        "## Tuning The Vanilla RNN Network\n"
      ]
    },
    {
      "cell_type": "markdown",
      "metadata": {
        "id": "hGCZOGVJEqzk"
      },
      "source": [
        "<p>12- Prepare the data to use sequences of length 80 rather than length 30 and retrain your model. Did it improve the performance?</p>\n",
        "<p>13- Try different values of the maximum length of a sequence (\"max_features\"). Can you improve the performance?</p>\n",
        "<p>14- Try smaller and larger sizes of the RNN hidden dimension. How does it affect the model performance? How does it affect the run time?</p>"
      ]
    },
    {
      "cell_type": "code",
      "execution_count": null,
      "metadata": {
        "id": "0RTLlkR1Eqzk",
        "outputId": "ccb7776c-9208-49f8-996f-6237f6b686a6"
      },
      "outputs": [
        {
          "name": "stdout",
          "output_type": "stream",
          "text": [
            "Test Accuracy: 57.70%\n",
            "Test Accuracy: 57.70%\n",
            "Test Accuracy: 57.70%\n",
            "Test Accuracy: 57.70%\n",
            "Test Accuracy: 57.70%\n",
            "Test Accuracy: 57.70%\n",
            "Test Accuracy: 57.70%\n",
            "Test Accuracy: 57.70%\n",
            "Test Accuracy: 57.70%\n",
            "Test Accuracy: 57.70%\n",
            "558.4270069599152\n"
          ]
        },
        {
          "data": {
            "image/png": "[encoded data removed]",
            "text/plain": [
              "<Figure size 432x288 with 1 Axes>"
            ]
          },
          "metadata": {
            "needs_background": "light"
          },
          "output_type": "display_data"
        },
        {
          "data": {
            "image/png": "[encoded data removed]",
            "text/plain": [
              "<Figure size 432x288 with 1 Axes>"
            ]
          },
          "metadata": {
            "needs_background": "light"
          },
          "output_type": "display_data"
        }
      ],
      "source": [
        "maxlen = 80\n",
        "(x_train, y_train), (x_test, y_test) = imdb.load_data(num_words=max_features)\n",
        "x_train = tf.keras.utils.pad_sequences(x_train, maxlen=maxlen)\n",
        "x_test = tf.keras.utils.pad_sequences(x_test, maxlen=maxlen)\n",
        "\n",
        "start_time_80 = time.time()\n",
        "keras.backend.clear_session()\n",
        "model1 = Sequential()\n",
        "model1.add(Embedding(input_dim=max_features, output_dim=50, input_length=maxlen))\n",
        "model1.add(SimpleRNN(units=5, kernel_initializer=keras.initializers.RandomNormal(stddev=0.001),\n",
        "                    activation='tanh'))\n",
        "model1.add(Dense(1, activation='sigmoid'))\n",
        "\n",
        "# Compile the model\n",
        "model1.compile(loss='binary_crossentropy', optimizer=rmsprop, metrics=['accuracy'])\n",
        "\n",
        "loss1 = []\n",
        "accuracy1 = []\n",
        "val_loss1 = []\n",
        "val_accuracy1 = []\n",
        "test_accuracy1 = []\n",
        "\n",
        "for train, test in kfold.split(x_train, y_train): \n",
        "    # Train the model\n",
        "    history1 = model1.fit(x_train[train], y_train[train], epochs=10, batch_size=64, callbacks=[tensorboard], \n",
        "              validation_data=(x_train[test], y_train[test]), verbose=0)\n",
        "    loss1.append(history1.history['loss'])\n",
        "    accuracy1.append(history1.history['accuracy'])\n",
        "    val_loss1.append(history1.history['val_loss'])\n",
        "    val_accuracy1.append(history1.history['val_accuracy'])\n",
        "    # Evaluate the model\n",
        "    scores1 = model1.evaluate(x_test, y_test, verbose=0)\n",
        "    test_accuracy1.append(scores)\n",
        "    print(\"Test Accuracy: %.2f%%\" % (scores[1]*100))\n",
        "    \n",
        "end_time_80 = time.time()\n",
        "runtime_80 = end_time_80 - start_time_80\n",
        "print(runtime_80)\n",
        "    \n",
        "# plot the average loss and accuracy across all folds over the training epochs\n",
        "loss1 = np.mean(loss1, axis=0)\n",
        "accuracy1 = np.mean(accuracy1, axis=0)\n",
        "val_loss1 = np.mean(val_loss1, axis=0)\n",
        "val_accuracy1 = np.mean(val_accuracy1, axis=0)\n",
        "epochs = range(1, len(loss1) + 1)\n",
        "\n",
        "plt.figure()\n",
        "plt.plot(epochs, loss1, 'r', label='Training loss')\n",
        "plt.plot(epochs, val_loss1, 'b', label='Validation loss')\n",
        "plt.title('Training and validation loss for K-fold cross-validation performance')\n",
        "plt.xlabel('Epochs')\n",
        "plt.ylabel('Loss')\n",
        "plt.legend()\n",
        "plt.show()\n",
        "\n",
        "plt.figure()\n",
        "plt.plot(epochs, accuracy1, 'r', label='Training acc')\n",
        "plt.plot(epochs, val_accuracy1, 'b', label='Validation acc')\n",
        "plt.title('Training and validation accuracy for K-fold cross-validation performance')\n",
        "plt.xlabel('Epochs')\n",
        "plt.ylabel('Accuracy')\n",
        "plt.legend()\n",
        "plt.show()"
      ]
    },
    {
      "cell_type": "code",
      "execution_count": null,
      "metadata": {
        "id": "qhMdCXyPEqzl",
        "outputId": "fb5ca4f7-37a0-4d31-8a8e-ec54a04a7165"
      },
      "outputs": [
        {
          "data": {
            "text/plain": [
              "[[0.7734335660934448, 0.5770000219345093],\n",
              " [0.7734335660934448, 0.5770000219345093],\n",
              " [0.7734335660934448, 0.5770000219345093],\n",
              " [0.7734335660934448, 0.5770000219345093],\n",
              " [0.7734335660934448, 0.5770000219345093],\n",
              " [0.7734335660934448, 0.5770000219345093],\n",
              " [0.7734335660934448, 0.5770000219345093],\n",
              " [0.7734335660934448, 0.5770000219345093],\n",
              " [0.7734335660934448, 0.5770000219345093],\n",
              " [0.7734335660934448, 0.5770000219345093]]"
            ]
          },
          "execution_count": 17,
          "metadata": {},
          "output_type": "execute_result"
        }
      ],
      "source": [
        "test_accuracy1"
      ]
    },
    {
      "cell_type": "code",
      "execution_count": null,
      "metadata": {
        "id": "T70DDar0Eqzm",
        "outputId": "c85b1318-6ab6-4ee8-b698-9c75ddf3758c"
      },
      "outputs": [
        {
          "name": "stdout",
          "output_type": "stream",
          "text": [
            "782/782 [==============================] - 4s 5ms/step - loss: 0.4127 - accuracy: 0.8210\n",
            "Test loss for model 1:  0.4126855134963989\n",
            "Test accuracy for model 1:  0.8209999799728394\n"
          ]
        }
      ],
      "source": [
        "test_loss1, test_acc1 = model1.evaluate(x_test, y_test)\n",
        "print(\"Test loss for model 1: \", test_loss1)\n",
        "print(\"Test accuracy for model 1: \", test_acc1)"
      ]
    },
    {
      "cell_type": "code",
      "execution_count": null,
      "metadata": {
        "id": "JXcFPAifEqzm",
        "outputId": "e63d05c8-fbc3-43eb-cbf9-05e7778a9a3e"
      },
      "outputs": [
        {
          "name": "stdout",
          "output_type": "stream",
          "text": [
            "Test Accuracy: 79.65%\n",
            "Test Accuracy: 83.34%\n",
            "Test Accuracy: 83.84%\n",
            "Test Accuracy: 83.88%\n",
            "Test Accuracy: 84.09%\n",
            "Test Accuracy: 83.95%\n",
            "Test Accuracy: 84.00%\n",
            "Test Accuracy: 83.94%\n",
            "Test Accuracy: 84.20%\n",
            "Test Accuracy: 84.40%\n"
          ]
        },
        {
          "ename": "NameError",
          "evalue": "name 'end_time_130' is not defined",
          "output_type": "error",
          "traceback": [
            "\u001b[1;31m---------------------------------------------------------------------------\u001b[0m",
            "\u001b[1;31mNameError\u001b[0m                                 Traceback (most recent call last)",
            "Input \u001b[1;32mIn [19]\u001b[0m, in \u001b[0;36m<cell line: 37>\u001b[1;34m()\u001b[0m\n\u001b[0;32m     34\u001b[0m     \u001b[38;5;28mprint\u001b[39m(\u001b[38;5;124m\"\u001b[39m\u001b[38;5;124mTest Accuracy: \u001b[39m\u001b[38;5;132;01m%.2f\u001b[39;00m\u001b[38;5;132;01m%%\u001b[39;00m\u001b[38;5;124m\"\u001b[39m \u001b[38;5;241m%\u001b[39m (scores[\u001b[38;5;241m1\u001b[39m]\u001b[38;5;241m*\u001b[39m\u001b[38;5;241m100\u001b[39m))\n\u001b[0;32m     36\u001b[0m start_time_130 \u001b[38;5;241m=\u001b[39m time\u001b[38;5;241m.\u001b[39mtime()\n\u001b[1;32m---> 37\u001b[0m runtime_130 \u001b[38;5;241m=\u001b[39m \u001b[43mend_time_130\u001b[49m \u001b[38;5;241m-\u001b[39m start_time_130\n\u001b[0;32m     38\u001b[0m \u001b[38;5;28mprint\u001b[39m(runtime_130)\n\u001b[0;32m     39\u001b[0m \u001b[38;5;66;03m# plot the average loss and accuracy across all folds over the training epochs\u001b[39;00m\n",
            "\u001b[1;31mNameError\u001b[0m: name 'end_time_130' is not defined"
          ]
        }
      ],
      "source": [
        "maxlen = 130\n",
        "(x_train, y_train), (x_test, y_test) = imdb.load_data(num_words=max_features)\n",
        "x_train = tf.keras.utils.pad_sequences(x_train, maxlen=maxlen)\n",
        "x_test = tf.keras.utils.pad_sequences(x_test, maxlen=maxlen)\n",
        "\n",
        "start_time_130 = time.time()\n",
        "keras.backend.clear_session()\n",
        "model2 = Sequential()\n",
        "model2.add(Embedding(input_dim=max_features, output_dim=50, input_length=maxlen))\n",
        "model2.add(SimpleRNN(units=5, kernel_initializer=keras.initializers.RandomNormal(stddev=0.001),\n",
        "                    activation='tanh'))\n",
        "model2.add(Dense(1, activation='sigmoid'))\n",
        "\n",
        "# Compile the model\n",
        "model2.compile(loss='binary_crossentropy', optimizer=rmsprop, metrics=['accuracy'])\n",
        "\n",
        "loss2 = []\n",
        "accuracy2 = []\n",
        "val_loss2 = []\n",
        "val_accuracy2 = []\n",
        "test_accuracy2 = []\n",
        "\n",
        "for train, test in kfold.split(x_train, y_train): \n",
        "    # Train the model\n",
        "    history2 = model2.fit(x_train[train], y_train[train], epochs=10, batch_size=64, callbacks=[tensorboard], \n",
        "              validation_data=(x_train[test], y_train[test]), verbose=0)\n",
        "    loss2.append(history2.history['loss'])\n",
        "    accuracy2.append(history2.history['accuracy'])\n",
        "    val_loss2.append(history2.history['val_loss'])\n",
        "    val_accuracy2.append(history2.history['val_accuracy'])\n",
        "    # Evaluate the model\n",
        "    scores = model2.evaluate(x_test, y_test, verbose=0)\n",
        "    test_accuracy2.append(scores)\n",
        "    print(\"Test Accuracy: %.2f%%\" % (scores[1]*100))\n",
        "    \n",
        "endtime_130 = time.time()\n",
        "runtime_130 = end_time_130 - start_time_130\n",
        "print(runtime_130)\n",
        "# plot the average loss and accuracy across all folds over the training epochs\n",
        "loss2 = np.mean(loss2, axis=0)\n",
        "accuracy2 = np.mean(accuracy2, axis=0)\n",
        "val_loss2 = np.mean(val_loss2, axis=0)\n",
        "val_accuracy2 = np.mean(val_accuracy2, axis=0)\n",
        "epochs = range(1, len(loss2) + 1)\n",
        "\n",
        "plt.figure()\n",
        "plt.plot(epochs, loss2, 'r', label='Training loss')\n",
        "plt.plot(epochs, val_loss2, 'b', label='Validation loss')\n",
        "plt.title('Training and validation loss for K-fold cross-validation performance')\n",
        "plt.xlabel('Epochs')\n",
        "plt.ylabel('Loss')\n",
        "plt.legend()\n",
        "plt.show()\n",
        "\n",
        "plt.figure()\n",
        "plt.plot(epochs, accuracy2, 'r', label='Training acc')\n",
        "plt.plot(epochs, val_accuracy2, 'b', label='Validation acc')\n",
        "plt.title('Training and validation accuracy for K-fold cross-validation performance')\n",
        "plt.xlabel('Epochs')\n",
        "plt.ylabel('Accuracy')\n",
        "plt.legend()\n",
        "plt.show()"
      ]
    },
    {
      "cell_type": "code",
      "execution_count": null,
      "metadata": {
        "id": "QD1yZloGEqzp"
      },
      "outputs": [],
      "source": [
        "test_accuracy2"
      ]
    },
    {
      "cell_type": "code",
      "execution_count": null,
      "metadata": {
        "id": "uJeLrYJNEqzq"
      },
      "outputs": [],
      "source": [
        "test_loss2, test_acc2 = model2.evaluate(x_test, y_test)\n",
        "print(\"Test loss for model 2: \", test_loss2)\n",
        "print(\"Test accuracy for model 2: \", test_acc2)"
      ]
    },
    {
      "cell_type": "code",
      "execution_count": null,
      "metadata": {
        "id": "Q20_TjytEqzq"
      },
      "outputs": [],
      "source": [
        "from keras.layers import SimpleRNN, Dense\n",
        "from keras.models import Sequential\n",
        "import time\n",
        "maxlen = 130\n",
        "(x_train, y_train), (x_test, y_test) = imdb.load_data(num_words=max_features)\n",
        "x_train = tf.keras.utils.pad_sequences(x_train, maxlen=maxlen)\n",
        "x_test = tf.keras.utils.pad_sequences(x_test, maxlen=maxlen)\n",
        "\n",
        "hidden_dimensions = [4, 8, 16, 32, 64, 128]\n",
        "time_comparison = []\n",
        "\n",
        "for hidden_dim in hidden_dimensions:\n",
        "    keras.backend.clear_session()\n",
        "    start_time = time.time()\n",
        "    model3 = Sequential()\n",
        "    model3.add(Embedding(input_dim=max_features, output_dim=50, input_length=maxlen))\n",
        "    model3.add(SimpleRNN(units=hidden_dim, kernel_initializer=keras.initializers.RandomNormal(stddev=0.001),\n",
        "                         activation='tanh'))\n",
        "    model3.add(Dense(1, activation='sigmoid'))\n",
        "    # Compile the model\n",
        "    model3.compile(loss='binary_crossentropy', optimizer=rmsprop, metrics=['accuracy'])\n",
        "    \n",
        "    kfold = StratifiedKFold(n_splits=10, shuffle=True)\n",
        "    \n",
        "    loss3 = []\n",
        "    accuracy3 = []\n",
        "    val_loss3 = []\n",
        "    val_accuracy3 = []\n",
        "    test_accuracy3 = []\n",
        "    \n",
        "    \n",
        "    for train, test in kfold.split(x_train, y_train): \n",
        "        # Train the model\n",
        "        history3 = model3.fit(x_train[train], y_train[train], epochs=10, batch_size=64, callbacks=[tensorboard], \n",
        "                              validation_data=(x_train[test], y_train[test]), verbose=0)\n",
        "        loss3.append(history3.history['loss'])\n",
        "        accuracy3.append(history3.history['accuracy'])\n",
        "        val_loss3.append(history3.history['val_loss'])\n",
        "        val_accuracy3.append(history3.history['val_accuracy'])\n",
        "        # Evaluate the model\n",
        "        scores = model3.evaluate(x_test, y_test, verbose=0)\n",
        "        test_accuracy3.append(scores[1]*100)\n",
        "        print(\"Test Accuracy: %.2f%%\" % (scores[1]*100))\n",
        "        \n",
        "    end_time = time.time()\n",
        "    runtime = end_time - start_time\n",
        "    time_comparison.append(runtime)\n",
        "    \n",
        "    # plot the average loss and accuracy across all folds over the training epochs\n",
        "    fig, axs = plt.subplots(1, 2, figsize=(15, 5))\n",
        "\n",
        "    loss3 = np.mean(loss3, axis=0)\n",
        "    val_loss3 = np.mean(val_loss3, axis=0)\n",
        "    accuracy3 = np.mean(accuracy3, axis=0)\n",
        "    val_accuracy3 = np.mean(val_accuracy3, axis=0)\n",
        "    epochs = range(1, len(loss3) + 1)\n",
        "\n",
        "    axs[0].plot(epochs, loss3, 'r', label='Training loss')\n",
        "    axs[0].plot(epochs, val_loss3, 'b', label='Validation loss')\n",
        "    axs[0].set_title('Training and validation loss for K-fold cross-validation performance')\n",
        "    axs[0].set_xlabel('Epochs')\n",
        "    axs[0].set_ylabel('Loss')\n",
        "    axs[0].legend()\n",
        "\n",
        "    axs[1].plot(epochs, accuracy3, 'r', label='Training acc')\n",
        "    axs[1].plot(epochs, val_accuracy3, 'b', label='Validation acc')\n",
        "    axs[1].set_title('Training and validation accuracy for K-fold cross-validation performance')\n",
        "    axs[1].set_xlabel('Epochs')\n",
        "    axs[1].set_ylabel('Accuracy')\n",
        "    axs[1].legend()    "
      ]
    },
    {
      "cell_type": "code",
      "execution_count": null,
      "metadata": {
        "id": "m1F0YWUsEqzr"
      },
      "outputs": [],
      "source": [
        "time_comparison"
      ]
    },
    {
      "cell_type": "markdown",
      "metadata": {
        "id": "LcMHT0DqEqzs"
      },
      "source": [
        "## Train LSTM and GRU networks"
      ]
    },
    {
      "cell_type": "markdown",
      "metadata": {
        "id": "gw2PDvB0Eqzs"
      },
      "source": [
        "<p>15- Build LSTM and GRU networks and compare their performance (accuracy and execution time) with the SimpleRNN. What is your conclusion?</p>"
      ]
    },
    {
      "cell_type": "code",
      "execution_count": null,
      "metadata": {
        "id": "61_P2-xlEqzu"
      },
      "outputs": [],
      "source": [
        "#LSTM Model\n",
        "from keras.layers import LSTM, GRU, Dense\n",
        "from keras.models import Sequential\n",
        "\n",
        "maxlen = 130\n",
        "(x_train, y_train), (x_test, y_test) = imdb.load_data(num_words=max_features)\n",
        "x_train = tf.keras.utils.pad_sequences(x_train, maxlen=maxlen)\n",
        "x_test = tf.keras.utils.pad_sequences(x_test, maxlen=maxlen)\n",
        "\n",
        "start_time_lstm = time.time()\n",
        "keras.backend.clear_session()\n",
        "model_lstm = Sequential()\n",
        "\n",
        "model_lstm.add(Embedding(input_dim=max_features, output_dim=50, input_length=maxlen))\n",
        "model_lstm.add(LSTM(units=128, kernel_initializer=keras.initializers.RandomNormal(stddev=0.001),\n",
        "                    activation='tanh'))\n",
        "model_lstm.add(Dense(1, activation='sigmoid'))\n",
        "\n",
        "# Compile the model\n",
        "model_lstm.compile(loss='binary_crossentropy', optimizer=rmsprop, metrics=['accuracy'])\n",
        "\n",
        "loss_lstm = []\n",
        "accuracy_lstm = []\n",
        "val_loss_lstm = []\n",
        "val_accuracy_lstm = []\n",
        "test_accuracy_lstm = []\n",
        "\n",
        "for train, test in kfold.split(x_train, y_train): \n",
        "    # Train the model\n",
        "    history_lstm = model_lstm.fit(x_train[train], y_train[train], epochs=10, batch_size=64, callbacks=[tensorboard], \n",
        "              validation_data=(x_train[test], y_train[test]), verbose = 0)\n",
        "    loss_lstm.append(history_lstm.history['loss'])\n",
        "    accuracy_lstm.append(history_lstm.history['accuracy'])\n",
        "    val_loss_lstm.append(history_lstm.history['val_loss'])\n",
        "    val_accuracy_lstm.append(history_lstm.history['val_accuracy'])\n",
        "    # Evaluate the model\n",
        "    scores = model_lstm.evaluate(x_test, y_test, verbose=0)\n",
        "    test_accuracy_lstm.append(scores)\n",
        "    print(\"Accuracy: %.2f%%\" % (scores[1]*100))\n",
        "\n",
        "end_time_lstm = time.time()\n",
        "runtime_lstm = end_time_lstm - start_time_lstm\n",
        "print(runtime_lstm)\n",
        "\n",
        "# plot the average loss and accuracy across all folds over the training epochs\n",
        "loss_lstm = np.mean(loss_lstm, axis=0)\n",
        "accuracy_lstm = np.mean(accuracy_lstm, axis=0)\n",
        "val_loss_lstm = np.mean(val_loss_lstm, axis=0)\n",
        "val_accuracy_lstm = np.mean(val_accuracy_lstm, axis=0)\n",
        "epochs = range(1, len(loss_lstm) + 1)\n",
        "\n",
        "plt.figure()\n",
        "plt.plot(epochs, loss_lstm, 'r', label='Training loss')\n",
        "plt.plot(epochs, val_loss_lstm, 'b', label='Validation loss')\n",
        "plt.title('Training and validation loss for K-fold cross-validation performance')\n",
        "plt.xlabel('Epochs')\n",
        "plt.ylabel('Loss')\n",
        "plt.legend()\n",
        "plt.show()\n",
        "\n",
        "plt.figure()\n",
        "plt.plot(epochs, accuracy_lstm, 'r', label='Training acc')\n",
        "plt.plot(epochs, val_accuracy_lstm, 'b', label='Validation acc')\n",
        "plt.title('Training and validation accuracy for K-fold cross-validation performance')\n",
        "plt.xlabel('Epochs')\n",
        "plt.ylabel('Accuracy')\n",
        "plt.legend()\n",
        "plt.show()"
      ]
    },
    {
      "cell_type": "code",
      "execution_count": null,
      "metadata": {
        "id": "3AzrB_SnEqz3"
      },
      "outputs": [],
      "source": [
        "#GRU Model\n",
        "from keras.layers import GRU, Dense\n",
        "from keras.models import Sequential\n",
        "\n",
        "maxlen = 120\n",
        "(x_train, y_train), (x_test, y_test) = imdb.load_data(num_words=max_features)\n",
        "x_train = tf.keras.utils.pad_sequences(x_train, maxlen=maxlen)\n",
        "x_test = tf.keras.utils.pad_sequences(x_test, maxlen=maxlen)\n",
        "\n",
        "start_time_gru = time.time()\n",
        "keras.backend.clear_session()\n",
        "model_gru = Sequential()\n",
        "\n",
        "model_gru.add(Embedding(input_dim=max_features, output_dim=50, input_length=maxlen))\n",
        "model_gru.add(GRU(units=128, kernel_initializer=keras.initializers.RandomNormal(stddev=0.001),\n",
        "                    activation='tanh'))\n",
        "model_gru.add(Dense(1, activation='sigmoid'))\n",
        "\n",
        "# Compile the model\n",
        "model_gru.compile(loss='binary_crossentropy', optimizer=rmsprop, metrics=['accuracy'])\n",
        "\n",
        "loss_gru = []\n",
        "accuracy_gru = []\n",
        "val_loss_gru = []\n",
        "val_accuracy_gru = []\n",
        "test_accuracy_gru = []\n",
        "\n",
        "for train, test in kfold.split(x_train, y_train): \n",
        "    # Train the model\n",
        "    history_gru = model_gru.fit(x_train[train], y_train[train], epochs=10, batch_size=64, callbacks=[tensorboard], \n",
        "              validation_data=(x_train[test], y_train[test]), verbose=0 )\n",
        "    loss_gru.append(history_gru.history['loss'])\n",
        "    accuracy_gru.append(history_gru.history['accuracy'])\n",
        "    val_loss_gru.append(history_gru.history['val_loss'])\n",
        "    val_accuracy_gru.append(history_gru.history['val_accuracy'])\n",
        "    # Evaluate the model\n",
        "    scores = model_gru.evaluate(x_test, y_test, verbose=0)\n",
        "    test_accuracy_gru.append(scores)\n",
        "    print(\"Accuracy: %.2f%%\" % (scores[1]*100))\n",
        "\n",
        "end_time_gru = time.time()\n",
        "runtime_gru = end_time_gru - start_time_gru\n",
        "print(runtime_gru)\n",
        "\n",
        "# plot the average loss and accuracy across all folds over the training epochs\n",
        "loss_gru = np.mean(loss_gru, axis=0)\n",
        "accuracy_gru = np.mean(accuracy_gru, axis=0)\n",
        "val_loss_gru = np.mean(val_loss_gru, axis=0)\n",
        "val_accuracy_gru = np.mean(val_accuracy_gru, axis=0)\n",
        "epochs = range(1, len(loss_gru) + 1)\n",
        "\n",
        "plt.figure()\n",
        "plt.plot(epochs, loss_gru, 'r', label='Training loss')\n",
        "plt.plot(epochs, val_loss_gru, 'b', label='Validation loss')\n",
        "plt.title('Training and validation loss for K-fold cross-validation performance')\n",
        "plt.xlabel('Epochs')\n",
        "plt.ylabel('Loss')\n",
        "plt.legend()\n",
        "plt.show()\n",
        "\n",
        "plt.figure()\n",
        "plt.plot(epochs, accuracy_gru, 'r', label='Training acc')\n",
        "plt.plot(epochs, val_accuracy_gru, 'b', label='Validation acc')\n",
        "plt.title('Training and validation accuracy for K-fold cross-validation performance')\n",
        "plt.xlabel('Epochs')\n",
        "plt.ylabel('Accuracy')\n",
        "plt.legend()\n",
        "plt.show()"
      ]
    },
    {
      "cell_type": "markdown",
      "metadata": {
        "tags": [],
        "id": "s0gBtVtDEqz4"
      },
      "source": [
        "<p>16- Save the weights of the best model to the local drive.</p>"
      ]
    },
    {
      "cell_type": "markdown",
      "metadata": {
        "id": "4Rcylu5hEqz5"
      },
      "source": [
        "<p><strong>Bonus</strong></p>\n",
        "<p>17- Instead of word tokenization,&nbsp; tokonize the reviews based on characters and build LSTM and GRU networks, and compare their performance with respect to word based tokenization.</p>"
      ]
    },
    {
      "cell_type": "code",
      "execution_count": null,
      "metadata": {
        "id": "HKuiTKuHEqz5"
      },
      "outputs": [],
      "source": [
        "from keras.preprocessing.text import Tokenizer\n",
        "\n",
        "maxlen = 130\n",
        "max_features = 2000\n",
        "\n",
        "(x_train, y_train), (x_test, y_test) = tf.keras.datasets.imdb.load_data(num_words=max_features)\n",
        "\n",
        "# Tokenize reviews based on characters\n",
        "tokenizer = Tokenizer(char_level=True)\n",
        "tokenizer.fit_on_texts([text.lower() for text in tf.keras.datasets.imdb.get_word_index()])\n",
        "x_train = tokenizer.texts_to_sequences([' '.join([tokenizer.index_word.get(i - 3, '') for i in seq]) for seq in x_train])\n",
        "x_test = tokenizer.texts_to_sequences([' '.join([tokenizer.index_word.get(i - 3, '') for i in seq]) for seq in x_test])\n",
        "x_train = tf.keras.utils.pad_sequences(x_train, maxlen=maxlen)\n",
        "x_test = tf.keras.utils.pad_sequences(x_test, maxlen=maxlen)\n",
        "\n",
        "#Let's Define the Model\n",
        "start_time_t_lstm = time.time()\n",
        "tf.keras.backend.clear_session()\n",
        "model_t_lstm = Sequential()\n",
        "model_t_lstm.add(Embedding(input_dim=max_features, output_dim=128, input_length=maxlen))\n",
        "model_t_lstm.add(LSTM(units=128, kernel_initializer=tf.keras.initializers.RandomNormal(stddev=0.001)))\n",
        "model_t_lstm.add(Dense(1, activation='sigmoid'))\n",
        "\n",
        "# Compile the model\n",
        "model_t_lstm.compile(loss='binary_crossentropy', optimizer='rmsprop', metrics=['accuracy'])\n",
        "\n",
        "loss_t_lstm = []\n",
        "accuracy_t_lstm = []\n",
        "val_loss_t_lstm = []\n",
        "val_accuracy_t_lstm = []\n",
        "test_accuracy_t_lstm = []\n",
        "\n",
        "for train, test in kfold.split(x_train, y_train): \n",
        "    # Train the model\n",
        "    history_t_lstm = model.fit(x_train[train], y_train[train], epochs=10, batch_size=64, callbacks=[tensorboard], \n",
        "                        validation_data=(x_train[test], y_train[test]))\n",
        "    loss_t_lstm.append(history.history['loss'])\n",
        "    accuracy_t_lstm.append(history.history['accuracy'])\n",
        "    val_loss_t_lstm.append(history.history['val_loss'])\n",
        "    val_accuracy_t_lstm.append(history.history['val_accuracy'])\n",
        "    # Evaluate the model\n",
        "    scores = model_t_lstm.evaluate(x_test, y_test, verbose=0)\n",
        "    test_accuracy_t_lstm.append(scores[1]*100)\n",
        "    print(\"Accuracy: %.2f%%\" % (scores[1]*100))\n",
        "\n",
        "end_time_t_lstm = time.time()\n",
        "runtime_t_lstm = end_time_t_lstm - start_time_t_lstm\n",
        "print(runtime_t_lstm)\n",
        "\n",
        "# plot the average loss and accuracy across all folds over the training epochs\n",
        "loss_t_lstm = np.mean(loss_t_lstm, axis=0)\n",
        "accuracy_t_lstm = np.mean(accuracy_t_lstm, axis=0)\n",
        "val_loss_t_lstm = np.mean(val_loss_t_lstm, axis=0)\n",
        "val_accuracy_t_lstm = np.mean(val_accuracy_t_lstm, axis=0)\n",
        "epochs = range(1, len(loss_t_lstm) + 1)\n",
        "\n",
        "plt.figure()\n",
        "plt.plot(epochs, loss_t_lstm, 'r', label='Training loss')\n",
        "plt.plot(epochs, val_loss_t_lstm, 'b', label='Validation loss')\n",
        "plt.title('Training and validation loss for K-fold cross-validation performance')\n",
        "plt.xlabel('Epochs')\n",
        "plt.ylabel('Loss')\n",
        "plt.legend()\n",
        "plt.show()\n",
        "\n",
        "plt.figure()\n",
        "plt.plot(epochs, accuracy_t_lstm, 'r', label='Training acc')\n",
        "plt.plot(epochs, val_accuracy_t_lstm, 'b', label='Validation acc')\n",
        "plt.title('Training and validation accuracy for K-fold cross-validation performance')\n",
        "plt.xlabel('Epochs')\n",
        "plt.ylabel('Accuracy')\n",
        "plt.legend()\n",
        "plt.show()"
      ]
    },
    {
      "cell_type": "code",
      "execution_count": null,
      "metadata": {
        "id": "Ad-zpVHNEqz6"
      },
      "outputs": [],
      "source": [
        "#Let's Define the Model\n",
        "start_time_t_gru = time.time()\n",
        "tf.keras.backend.clear_session()\n",
        "model_t_gru = Sequential()\n",
        "model_t_gru.add(Embedding(input_dim=max_features, output_dim=128, input_length=maxlen))\n",
        "model_t_gru.add(LSTM(units=128, kernel_initializer=tf.keras.initializers.RandomNormal(stddev=0.001)))\n",
        "model_t_gru.add(Dense(1, activation='sigmoid'))\n",
        "\n",
        "# Compile the model\n",
        "model_t_gru.compile(loss='binary_crossentropy', optimizer='rmsprop', metrics=['accuracy'])\n",
        "\n",
        "loss_t_gru = []\n",
        "accuracy_t_gru = []\n",
        "val_loss_t_gru = []\n",
        "val_accuracy_t_gru = []\n",
        "test_accuracy_t_gru = []\n",
        "\n",
        "for train, test in kfold.split(x_train, y_train): \n",
        "    # Train the model\n",
        "    history_t_gru = model.fit(x_train[train], y_train[train], epochs=10, batch_size=64, callbacks=[tensorboard], \n",
        "                        validation_data=(x_train[test], y_train[test]))\n",
        "    loss_t_gru.append(history.history['loss'])\n",
        "    accuracy_t_gru.append(history.history['accuracy'])\n",
        "    val_loss_t_gru.append(history.history['val_loss'])\n",
        "    val_accuracy_t_gru.append(history.history['val_accuracy'])\n",
        "    # Evaluate the model\n",
        "    scores = model_t_gru.evaluate(x_test, y_test, verbose=0)\n",
        "    test_accuracy_t_gru.append(scores[1]*100)\n",
        "    print(\"Accuracy: %.2f%%\" % (scores[1]*100))\n",
        "\n",
        "end_time_t_gru = time.time()\n",
        "runtime_t_gru = end_time_t_gru - start_time_t_gru\n",
        "print(runtime_t_gru)\n",
        "\n",
        "# plot the average loss and accuracy across all folds over the training epochs\n",
        "loss_t_gru = np.mean(loss_t_gru, axis=0)\n",
        "accuracy_t_gru = np.mean(accuracy_t_gru, axis=0)\n",
        "val_loss_t_gru = np.mean(val_loss_t_gru, axis=0)\n",
        "val_accuracy_t_gru = np.mean(val_accuracy_t_gru, axis=0)\n",
        "epochs = range(1, len(loss_t_gru) + 1)\n",
        "\n",
        "plt.figure()\n",
        "plt.plot(epochs, loss_t_gru, 'r', label='Training loss')\n",
        "plt.plot(epochs, val_loss_t_gru, 'b', label='Validation loss')\n",
        "plt.title('Training and validation loss for K-fold cross-validation performance')\n",
        "plt.xlabel('Epochs')\n",
        "plt.ylabel('Loss')\n",
        "plt.legend()\n",
        "plt.show()\n",
        "\n",
        "plt.figure()\n",
        "plt.plot(epochs, accuracy_t_gru, 'r', label='Training acc')\n",
        "plt.plot(epochs, val_accuracy_t_gru, 'b', label='Validation acc')\n",
        "plt.title('Training and validation accuracy for K-fold cross-validation performance')\n",
        "plt.xlabel('Epochs')\n",
        "plt.ylabel('Accuracy')\n",
        "plt.legend()\n",
        "plt.show()"
      ]
    }
  ],
  "metadata": {
    "kernelspec": {
      "display_name": "Python 3 (ipykernel)",
      "language": "python",
      "name": "python3"
    },
    "language_info": {
      "codemirror_mode": {
        "name": "ipython",
        "version": 3
      },
      "file_extension": ".py",
      "mimetype": "text/x-python",
      "name": "python",
      "nbconvert_exporter": "python",
      "pygments_lexer": "ipython3",
      "version": "3.9.12"
    },
    "latex_envs": {
      "LaTeX_envs_menu_present": true,
      "autoclose": false,
      "autocomplete": true,
      "bibliofile": "biblio.bib",
      "cite_by": "apalike",
      "current_citInitial": 1,
      "eqLabelWithNumbers": true,
      "eqNumInitial": 1,
      "hotkeys": {
        "equation": "Ctrl-E",
        "itemize": "Ctrl-I"
      },
      "labels_anchors": false,
      "latex_user_defs": false,
      "report_style_numbering": false,
      "user_envs_cfg": false
    },
    "toc": {
      "base_numbering": 1,
      "nav_menu": {},
      "number_sections": true,
      "sideBar": true,
      "skip_h1_title": false,
      "title_cell": "Table of Contents",
      "title_sidebar": "Contents",
      "toc_cell": false,
      "toc_position": {},
      "toc_section_display": true,
      "toc_window_display": false
    },
    "varInspector": {
      "cols": {
        "lenName": 16,
        "lenType": 16,
        "lenVar": 40
      },
      "kernels_config": {
        "python": {
          "delete_cmd_postfix": "",
          "delete_cmd_prefix": "del ",
          "library": "var_list.py",
          "varRefreshCmd": "print(var_dic_list())"
        },
        "r": {
          "delete_cmd_postfix": ") ",
          "delete_cmd_prefix": "rm(",
          "library": "var_list.r",
          "varRefreshCmd": "cat(var_dic_list()) "
        }
      },
      "types_to_exclude": [
        "module",
        "function",
        "builtin_function_or_method",
        "instance",
        "_Feature"
      ],
      "window_display": true
    },
    "colab": {
      "provenance": []
    }
  },
  "nbformat": 4,
  "nbformat_minor": 0
}